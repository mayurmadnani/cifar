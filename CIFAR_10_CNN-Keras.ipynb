{
 "cells": [
  {
   "cell_type": "markdown",
   "metadata": {
    "id": "HMZ1t69QSNEu",
    "colab_type": "text"
   },
   "source": [
    "The tutorial is intended to train CIFAR-10 dataset.\n",
    "\n",
    "The CIFAR-10 dataset consists of 60000 32x32 colour images in 10 classes, with 6000 images per class."
   ]
  },
  {
   "cell_type": "code",
   "execution_count": 1,
   "metadata": {
    "id": "Dd2FVOqbKsC-",
    "colab_type": "code",
    "colab": {
     "autoexec": {
      "startup": false,
      "wait_interval": 0.0
     },
     "base_uri": "https://localhost:8080/",
     "height": 34.0
    },
    "outputId": "3f5533ff-3211-41f7-99bc-b04c557e5fcb",
    "executionInfo": {
     "status": "ok",
     "timestamp": 1.531681778317E12,
     "user_tz": -330.0,
     "elapsed": 1572.0,
     "user": {
      "displayName": "Mayur Madnani",
      "photoUrl": "//lh6.googleusercontent.com/-DR9irWHiJKI/AAAAAAAAAAI/AAAAAAAADgc/zqyKQCNogr4/s50-c-k-no/photo.jpg",
      "userId": "107858200557419873749"
     }
    }
   },
   "outputs": [
    {
     "name": "stderr",
     "output_type": "stream",
     "text": [
      "Using TensorFlow backend.\n"
     ]
    }
   ],
   "source": [
    "import keras\n",
    "from keras.datasets import cifar10\n",
    "from keras.models import Sequential\n",
    "from keras.layers import Conv2D, MaxPooling2D, Dense, Dropout, Activation, Flatten\n",
    "from time import time"
   ]
  },
  {
   "cell_type": "code",
   "execution_count": 0,
   "metadata": {
    "id": "LCbfpm3_U8ow",
    "colab_type": "code",
    "colab": {
     "autoexec": {
      "startup": false,
      "wait_interval": 0.0
     }
    }
   },
   "outputs": [],
   "source": [
    "num_classes = 10\n",
    "\n",
    "labels = [\n",
    "    'airplane',\n",
    "    'automobile',\n",
    "    'bird',\n",
    "    'cat',\n",
    "    'deer',\n",
    "    'dog',\n",
    "    'frog',\n",
    "    'horse',\n",
    "    'ship',\n",
    "    'truck'\n",
    "]"
   ]
  },
  {
   "cell_type": "code",
   "execution_count": 3,
   "metadata": {
    "id": "EVwgYw1GNAMC",
    "colab_type": "code",
    "colab": {
     "autoexec": {
      "startup": false,
      "wait_interval": 0.0
     },
     "base_uri": "https://localhost:8080/",
     "height": 68.0
    },
    "outputId": "e7594b7c-8e9c-4b49-c933-b055bcbe8830",
    "executionInfo": {
     "status": "ok",
     "timestamp": 1.531681781821E12,
     "user_tz": -330.0,
     "elapsed": 2180.0,
     "user": {
      "displayName": "Mayur Madnani",
      "photoUrl": "//lh6.googleusercontent.com/-DR9irWHiJKI/AAAAAAAAAAI/AAAAAAAADgc/zqyKQCNogr4/s50-c-k-no/photo.jpg",
      "userId": "107858200557419873749"
     }
    }
   },
   "outputs": [
    {
     "name": "stdout",
     "output_type": "stream",
     "text": [
      "Size of dataset:\n",
      "(50000, 32, 32, 3)\n",
      "(10000, 32, 32, 3)\n"
     ]
    }
   ],
   "source": [
    "(X_train, y_train), (X_test, y_test) = cifar10.load_data()\n",
    "X_train = X_train.astype('float32')\n",
    "X_train /= 255\n",
    "X_test = X_test.astype('float32')\n",
    "X_test /= 255\n",
    "print(\"Size of dataset:\")\n",
    "print(X_train.shape)\n",
    "print(X_test.shape)"
   ]
  },
  {
   "cell_type": "code",
   "execution_count": 0,
   "metadata": {
    "id": "l-6QCkU6N-iA",
    "colab_type": "code",
    "colab": {
     "autoexec": {
      "startup": false,
      "wait_interval": 0.0
     }
    }
   },
   "outputs": [],
   "source": [
    "y_train = keras.utils.to_categorical(y_train, num_classes)\n",
    "y_test = keras.utils.to_categorical(y_test, num_classes)"
   ]
  },
  {
   "cell_type": "code",
   "execution_count": 0,
   "metadata": {
    "id": "Vk8q7xk0OAev",
    "colab_type": "code",
    "colab": {
     "autoexec": {
      "startup": false,
      "wait_interval": 0.0
     }
    }
   },
   "outputs": [],
   "source": [
    "model = Sequential()\n",
    "model.add(Conv2D(32, (3, 3), padding='same', input_shape=X_train.shape[1:]))\n",
    "model.add(Activation('relu'))\n",
    "model.add(Conv2D(32, (3, 3)))\n",
    "model.add(Activation('relu'))\n",
    "model.add(MaxPooling2D(pool_size=(2, 2)))\n",
    "model.add(Dropout(.25))\n",
    "\n",
    "model.add(Conv2D(64, (3, 3), padding='same'))\n",
    "model.add(Activation('relu'))\n",
    "model.add(Conv2D(64, (3, 3)))\n",
    "model.add(Activation('relu'))\n",
    "model.add(MaxPooling2D(pool_size=(2, 2)))\n",
    "model.add(Dropout(.25))\n",
    "\n",
    "model.add(Flatten())\n",
    "model.add(Dense(512))\n",
    "model.add(Activation('relu'))\n",
    "model.add(Dropout(.5))\n",
    "model.add(Dense(num_classes))\n",
    "model.add(Activation('softmax'))"
   ]
  },
  {
   "cell_type": "code",
   "execution_count": 0,
   "metadata": {
    "id": "lS6cqa3TOBvN",
    "colab_type": "code",
    "colab": {
     "autoexec": {
      "startup": false,
      "wait_interval": 0.0
     }
    }
   },
   "outputs": [],
   "source": [
    "model.compile(loss='categorical_crossentropy', optimizer='adam', metrics=['accuracy'])"
   ]
  },
  {
   "cell_type": "code",
   "execution_count": 0,
   "metadata": {
    "id": "5MlpXxVbM-hr",
    "colab_type": "code",
    "colab": {
     "autoexec": {
      "startup": false,
      "wait_interval": 0.0
     }
    }
   },
   "outputs": [],
   "source": [
    "batch_size = 32\n",
    "epochs = 25"
   ]
  },
  {
   "cell_type": "code",
   "execution_count": 8,
   "metadata": {
    "id": "hq5T4RWxOF7x",
    "colab_type": "code",
    "colab": {
     "autoexec": {
      "startup": false,
      "wait_interval": 0.0
     },
     "base_uri": "https://localhost:8080/",
     "height": 901.0
    },
    "outputId": "c1c9c411-8e08-447f-8b9f-7a2cb29c246e",
    "executionInfo": {
     "status": "ok",
     "timestamp": 1.531682514099E12,
     "user_tz": -330.0,
     "elapsed": 728436.0,
     "user": {
      "displayName": "Mayur Madnani",
      "photoUrl": "//lh6.googleusercontent.com/-DR9irWHiJKI/AAAAAAAAAAI/AAAAAAAADgc/zqyKQCNogr4/s50-c-k-no/photo.jpg",
      "userId": "107858200557419873749"
     }
    }
   },
   "outputs": [
    {
     "name": "stdout",
     "output_type": "stream",
     "text": [
      "Train on 50000 samples, validate on 10000 samples\n",
      "Epoch 1/25\n",
      "50000/50000 [==============================] - 31s 612us/step - loss: 1.4906 - acc: 0.4551 - val_loss: 1.1271 - val_acc: 0.6022\n",
      "Epoch 2/25\n",
      " 8192/50000 [===>..........................] - ETA: 23s - loss: 1.1865 - acc: 0.5802"
     ]
    },
    {
     "name": "stdout",
     "output_type": "stream",
     "text": [
      "50000/50000 [==============================] - 29s 582us/step - loss: 1.0948 - acc: 0.6130 - val_loss: 0.9281 - val_acc: 0.6777\n",
      "Epoch 3/25\n",
      "27200/50000 [===============>..............] - ETA: 12s - loss: 0.9519 - acc: 0.6643"
     ]
    },
    {
     "name": "stdout",
     "output_type": "stream",
     "text": [
      "50000/50000 [==============================] - 29s 581us/step - loss: 0.9445 - acc: 0.6679 - val_loss: 0.8447 - val_acc: 0.7055\n",
      "Epoch 4/25\n",
      "34400/50000 [===================>..........] - ETA: 8s - loss: 0.8570 - acc: 0.7009"
     ]
    },
    {
     "name": "stdout",
     "output_type": "stream",
     "text": [
      "50000/50000 [==============================] - 29s 581us/step - loss: 0.8537 - acc: 0.7020 - val_loss: 0.7845 - val_acc: 0.7291\n",
      "Epoch 5/25\n",
      "37088/50000 [=====================>........] - ETA: 7s - loss: 0.7991 - acc: 0.7209"
     ]
    },
    {
     "name": "stdout",
     "output_type": "stream",
     "text": [
      "50000/50000 [==============================] - 29s 581us/step - loss: 0.8020 - acc: 0.7192 - val_loss: 0.7453 - val_acc: 0.7418\n",
      "Epoch 6/25\n",
      "38048/50000 [=====================>........] - ETA: 6s - loss: 0.7530 - acc: 0.7366"
     ]
    },
    {
     "name": "stdout",
     "output_type": "stream",
     "text": [
      "50000/50000 [==============================] - 29s 582us/step - loss: 0.7557 - acc: 0.7362 - val_loss: 0.7094 - val_acc: 0.7568\n",
      "Epoch 7/25\n",
      "38432/50000 [======================>.......] - ETA: 6s - loss: 0.7110 - acc: 0.7477"
     ]
    },
    {
     "name": "stdout",
     "output_type": "stream",
     "text": [
      "50000/50000 [==============================] - 29s 581us/step - loss: 0.7174 - acc: 0.7467 - val_loss: 0.6891 - val_acc: 0.7675\n",
      "Epoch 8/25\n",
      "38624/50000 [======================>.......] - ETA: 6s - loss: 0.6782 - acc: 0.7632"
     ]
    },
    {
     "name": "stdout",
     "output_type": "stream",
     "text": [
      "50000/50000 [==============================] - 29s 581us/step - loss: 0.6852 - acc: 0.7610 - val_loss: 0.7065 - val_acc: 0.7622\n",
      "Epoch 9/25\n",
      "38624/50000 [======================>.......] - ETA: 6s - loss: 0.6570 - acc: 0.7688"
     ]
    },
    {
     "name": "stdout",
     "output_type": "stream",
     "text": [
      "50000/50000 [==============================] - 29s 581us/step - loss: 0.6573 - acc: 0.7691 - val_loss: 0.6702 - val_acc: 0.7689\n",
      "Epoch 10/25\n",
      "38528/50000 [======================>.......] - ETA: 6s - loss: 0.6341 - acc: 0.7770"
     ]
    },
    {
     "name": "stdout",
     "output_type": "stream",
     "text": [
      "50000/50000 [==============================] - 29s 580us/step - loss: 0.6356 - acc: 0.7765 - val_loss: 0.6742 - val_acc: 0.7660\n",
      "Epoch 11/25\n",
      "38432/50000 [======================>.......] - ETA: 6s - loss: 0.6160 - acc: 0.7843"
     ]
    },
    {
     "name": "stdout",
     "output_type": "stream",
     "text": [
      "50000/50000 [==============================] - 29s 579us/step - loss: 0.6194 - acc: 0.7837 - val_loss: 0.6656 - val_acc: 0.7708\n",
      "Epoch 12/25\n",
      "38432/50000 [======================>.......] - ETA: 6s - loss: 0.5952 - acc: 0.7919"
     ]
    },
    {
     "name": "stdout",
     "output_type": "stream",
     "text": [
      "50000/50000 [==============================] - 29s 581us/step - loss: 0.6023 - acc: 0.7890 - val_loss: 0.6585 - val_acc: 0.7774\n",
      "Epoch 13/25\n",
      "38464/50000 [======================>.......] - ETA: 6s - loss: 0.5731 - acc: 0.8003"
     ]
    },
    {
     "name": "stdout",
     "output_type": "stream",
     "text": [
      "50000/50000 [==============================] - 29s 580us/step - loss: 0.5806 - acc: 0.7972 - val_loss: 0.6856 - val_acc: 0.7728\n",
      "Epoch 14/25\n",
      "38432/50000 [======================>.......] - ETA: 6s - loss: 0.5592 - acc: 0.8040"
     ]
    },
    {
     "name": "stdout",
     "output_type": "stream",
     "text": [
      "50000/50000 [==============================] - 29s 580us/step - loss: 0.5613 - acc: 0.8034 - val_loss: 0.6503 - val_acc: 0.7787\n",
      "Epoch 15/25\n",
      "38432/50000 [======================>.......] - ETA: 6s - loss: 0.5438 - acc: 0.8090"
     ]
    },
    {
     "name": "stdout",
     "output_type": "stream",
     "text": [
      "50000/50000 [==============================] - 29s 580us/step - loss: 0.5502 - acc: 0.8065 - val_loss: 0.6406 - val_acc: 0.7831\n",
      "Epoch 16/25\n",
      "38432/50000 [======================>.......] - ETA: 6s - loss: 0.5400 - acc: 0.8083"
     ]
    },
    {
     "name": "stdout",
     "output_type": "stream",
     "text": [
      "50000/50000 [==============================] - 29s 581us/step - loss: 0.5446 - acc: 0.8072 - val_loss: 0.6583 - val_acc: 0.7805\n",
      "Epoch 17/25\n",
      "38432/50000 [======================>.......] - ETA: 6s - loss: 0.5357 - acc: 0.8133"
     ]
    },
    {
     "name": "stdout",
     "output_type": "stream",
     "text": [
      "50000/50000 [==============================] - 29s 579us/step - loss: 0.5356 - acc: 0.8134 - val_loss: 0.6475 - val_acc: 0.7825\n",
      "Epoch 18/25\n",
      "38432/50000 [======================>.......] - ETA: 6s - loss: 0.5121 - acc: 0.8190"
     ]
    },
    {
     "name": "stdout",
     "output_type": "stream",
     "text": [
      "50000/50000 [==============================] - 29s 578us/step - loss: 0.5169 - acc: 0.8160 - val_loss: 0.6660 - val_acc: 0.7832\n",
      "Epoch 19/25\n",
      "38432/50000 [======================>.......] - ETA: 6s - loss: 0.5152 - acc: 0.8196"
     ]
    },
    {
     "name": "stdout",
     "output_type": "stream",
     "text": [
      "50000/50000 [==============================] - 29s 578us/step - loss: 0.5188 - acc: 0.8184 - val_loss: 0.6522 - val_acc: 0.7800\n",
      "Epoch 20/25\n",
      "38432/50000 [======================>.......] - ETA: 6s - loss: 0.5088 - acc: 0.8244"
     ]
    },
    {
     "name": "stdout",
     "output_type": "stream",
     "text": [
      "50000/50000 [==============================] - 29s 580us/step - loss: 0.5125 - acc: 0.8228 - val_loss: 0.6723 - val_acc: 0.7822\n",
      "Epoch 21/25\n",
      "38432/50000 [======================>.......] - ETA: 6s - loss: 0.4994 - acc: 0.8243"
     ]
    },
    {
     "name": "stdout",
     "output_type": "stream",
     "text": [
      "50000/50000 [==============================] - 29s 578us/step - loss: 0.5013 - acc: 0.8241 - val_loss: 0.6527 - val_acc: 0.7844\n",
      "Epoch 22/25\n",
      "38432/50000 [======================>.......] - ETA: 6s - loss: 0.4861 - acc: 0.8272"
     ]
    },
    {
     "name": "stdout",
     "output_type": "stream",
     "text": [
      "50000/50000 [==============================] - 29s 580us/step - loss: 0.4904 - acc: 0.8271 - val_loss: 0.6515 - val_acc: 0.7841\n",
      "Epoch 23/25\n",
      "38432/50000 [======================>.......] - ETA: 6s - loss: 0.4734 - acc: 0.8338"
     ]
    },
    {
     "name": "stdout",
     "output_type": "stream",
     "text": [
      "50000/50000 [==============================] - 29s 580us/step - loss: 0.4803 - acc: 0.8317 - val_loss: 0.6503 - val_acc: 0.7830\n",
      "Epoch 24/25\n",
      "38432/50000 [======================>.......] - ETA: 6s - loss: 0.4757 - acc: 0.8318"
     ]
    },
    {
     "name": "stdout",
     "output_type": "stream",
     "text": [
      "50000/50000 [==============================] - 29s 580us/step - loss: 0.4777 - acc: 0.8312 - val_loss: 0.6324 - val_acc: 0.7915\n",
      "Epoch 25/25\n",
      "38432/50000 [======================>.......] - ETA: 6s - loss: 0.4694 - acc: 0.8355"
     ]
    },
    {
     "name": "stdout",
     "output_type": "stream",
     "text": [
      "50000/50000 [==============================] - 29s 581us/step - loss: 0.4765 - acc: 0.8334 - val_loss: 0.6470 - val_acc: 0.7871\n"
     ]
    },
    {
     "data": {
      "text/plain": [
       "<keras.callbacks.History at 0x7f35c55a0668>"
      ]
     },
     "execution_count": 8,
     "metadata": {
      "tags": []
     },
     "output_type": "execute_result"
    }
   ],
   "source": [
    "model.fit(X_train, y_train, batch_size=batch_size, epochs=epochs, verbose=1, validation_data=(X_test,y_test), shuffle=True)"
   ]
  },
  {
   "cell_type": "code",
   "execution_count": 9,
   "metadata": {
    "id": "pxUvxLAIOJJy",
    "colab_type": "code",
    "colab": {
     "autoexec": {
      "startup": false,
      "wait_interval": 0.0
     },
     "base_uri": "https://localhost:8080/",
     "height": 68.0
    },
    "outputId": "c06309a0-5951-4e2a-dffa-6249922df8b3",
    "executionInfo": {
     "status": "ok",
     "timestamp": 1.531682516366E12,
     "user_tz": -330.0,
     "elapsed": 2255.0,
     "user": {
      "displayName": "Mayur Madnani",
      "photoUrl": "//lh6.googleusercontent.com/-DR9irWHiJKI/AAAAAAAAAAI/AAAAAAAADgc/zqyKQCNogr4/s50-c-k-no/photo.jpg",
      "userId": "107858200557419873749"
     }
    }
   },
   "outputs": [
    {
     "name": "stdout",
     "output_type": "stream",
     "text": [
      "10000/10000 [==============================] - 2s 154us/step\n",
      "Test loss: 0.6470181393146515\n",
      "Test accuracy: 0.7871\n"
     ]
    }
   ],
   "source": [
    "scores = model.evaluate(X_test, y_test, verbose=1)\n",
    "print('Test loss:', scores[0])\n",
    "print('Test accuracy:', scores[1])"
   ]
  }
 ],
 "metadata": {
  "colab": {
   "name": "CIFAR_10_CNN-Keras.ipynb",
   "version": "0.3.2",
   "views": {},
   "default_view": {},
   "provenance": [],
   "collapsed_sections": []
  },
  "kernelspec": {
   "name": "python3",
   "display_name": "Python 3"
  },
  "accelerator": "GPU"
 },
 "nbformat": 4,
 "nbformat_minor": 0
}
